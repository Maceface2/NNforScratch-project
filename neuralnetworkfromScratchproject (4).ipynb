{
  "nbformat": 4,
  "nbformat_minor": 0,
  "metadata": {
    "colab": {
      "provenance": []
    },
    "kernelspec": {
      "name": "python3",
      "display_name": "Python 3"
    },
    "language_info": {
      "name": "python"
    }
  },
  "cells": [
    {
      "cell_type": "code",
      "execution_count": 125,
      "metadata": {
        "id": "h5cjnwKinVhh"
      },
      "outputs": [],
      "source": [
        "from sklearn.datasets import fetch_openml\n",
        "from sklearn.model_selection import train_test_split\n",
        "from matplotlib import pyplot as plt\n",
        "import numpy as np\n",
        "import pandas as pd\n",
        "import tensorflow as tf\n",
        "\n",
        "\n"
      ]
    },
    {
      "cell_type": "code",
      "source": [
        "#transforming all the data\n",
        "train=pd.read_csv(\"mnist_train.csv\")\n",
        "test=pd.read_csv(\"mnist_test.csv\")\n",
        "train=np.array(train)\n",
        "test=np.array(test)\n",
        "m,n=train.shape\n",
        "m1,n1=test.shape\n",
        "test=test[1000:m].T\n",
        "Y_test = test[0]\n",
        "X_test = test[1:n]\n",
        "X_test = X_test / 255.\n",
        "\n",
        "data_train = train[1000:m].T\n",
        "Y_train = data_train[0]\n",
        "X_train = data_train[1:n]\n",
        "X_train = X_train / 255.\n",
        "_,m_train = X_train.shape"
      ],
      "metadata": {
        "id": "n76EfsnQtyms"
      },
      "execution_count": 187,
      "outputs": []
    },
    {
      "cell_type": "code",
      "source": [
        "#confirming the correct shapes\n",
        "print(Y_train.shape)\n",
        "print(X_train.shape)\n",
        "print(Y_test.shape)\n",
        "print(X_test.shape)\n",
        "print(Y_test)"
      ],
      "metadata": {
        "colab": {
          "base_uri": "https://localhost:8080/"
        },
        "id": "YfbGqXVZ3JdR",
        "outputId": "fa17b26b-83e1-4bd4-b86e-32e6eadc119c"
      },
      "execution_count": 189,
      "outputs": [
        {
          "output_type": "stream",
          "name": "stdout",
          "text": [
            "(59000,)\n",
            "(784, 59000)\n",
            "(9000,)\n",
            "(784, 9000)\n",
            "[9 0 2 ... 4 5 6]\n"
          ]
        }
      ]
    },
    {
      "cell_type": "code",
      "source": [
        "#all functions for gradient decentu\n",
        "#creates random note vales\n",
        "def init_params():\n",
        "  W1=np.random.rand(10,784)- 0.5\n",
        "  b1=np.random.rand(10,1)-0.5\n",
        "  W2=np.random.rand(10, 10) - .5\n",
        "  b2= np.random.rand(10,1) - .5\n",
        "  return W1,b1,W2,b2\n",
        "# activation function\n",
        "def ReLu(Z):\n",
        "  return np.maximum(0, Z)\n",
        "def softmax(Z):\n",
        "  A = np.exp(Z)/ sum(np.exp(Z))\n",
        "  return A\n",
        "# calculates the values to the next successive node\n",
        "def forward_prop(W1,b1,W2,b2,X):\n",
        "  Z1=W1.dot(X)+b1\n",
        "  A1=ReLu(Z1)\n",
        "  Z2=W2.dot(A1)+b2\n",
        "  A2= softmax(Z2)\n",
        "  return Z1,A1,Z2,A2\n",
        "def one_hot(Y):\n",
        "  one_hot_Y = np.zeros((Y.size, Y.max() + 1))\n",
        "  one_hot_Y[np.arange(Y.size), Y] = 1\n",
        "  one_hot_Y = one_hot_Y.T\n",
        "  return one_hot_Y\n",
        "#derivative of the relu\n",
        "def deriv_ReLU(Z):\n",
        "  return Z > 0\n",
        "# back prop goes back throught the neural network adjusting the values after\n",
        "# incorrect predicitons to bring it closer to the correct predictison\n",
        "def back_prop(Z1, A1, Z2, A2, W2, X, Y):\n",
        "    one_hot_Y = one_hot(Y)\n",
        "    dZ2 = A2 - one_hot_Y\n",
        "    dw2 = 1/m * dZ2.dot(A1.T)\n",
        "    db2 = 1/m * np.sum(dZ2)\n",
        "    dZ1 = W2.T.dot(dZ2) * deriv_ReLU(Z1)\n",
        "    dw1 = 1/m * dZ1.dot(X.T)\n",
        "    db1 = 1/m * np.sum(dZ1)\n",
        "    return dw1, db1, dw2, db2\n",
        "\n",
        "def update_params(W1,b1,W2,b2,dw1,db1,dw2,db2,alpha):\n",
        "  W1=W1-alpha*dw1\n",
        "  b1=b1-alpha*db1\n",
        "  W2=W2-alpha*dw2\n",
        "  b2=b2-alpha*db2\n",
        "  return W1,b1,W2,b2"
      ],
      "metadata": {
        "id": "XUGvKYg4txlx"
      },
      "execution_count": 190,
      "outputs": []
    },
    {
      "cell_type": "code",
      "source": [
        "def get_accuracy(predictions, Y):\n",
        "  print(predictions, Y)\n",
        "  return np.sum(predictions == Y) / Y.size\n",
        "def get_predictions(A2):\n",
        "  return np.argmax(A2, 0)\n",
        "# applied the functions to the np arrays\n",
        "def gradient_descent(X,Y,alpha,iterations):\n",
        "  W1,b1,W2,b2=init_params()\n",
        "  for i in range(iterations):\n",
        "    Z1,A1,Z2,A2=forward_prop(W1,b1,W2,b2,X)\n",
        "    dw1,db1,dw2,db2=back_prop(Z1,A1,Z2,A2,W2,X,Y)\n",
        "    W1,b1,W2,b2=update_params(W1,b1,W2,b2,dw1,db1,dw2,db2,alpha)\n",
        "    if i % 10 == 0:\n",
        "      print(\"Iteration: \", i)\n",
        "      print(\"Accuracy: \", get_accuracy(get_predictions(A2), Y))\n",
        "  return W1,b1,W2,b2"
      ],
      "metadata": {
        "id": "yhnWFk4N0TF6"
      },
      "execution_count": 191,
      "outputs": []
    },
    {
      "cell_type": "code",
      "source": [],
      "metadata": {
        "id": "YqFsD3cg3EZ_"
      },
      "execution_count": null,
      "outputs": []
    },
    {
      "cell_type": "code",
      "source": [
        "W1, b1, W2, b2 = gradient_descent(X_train, Y_train, 0.10, 500)\n"
      ],
      "metadata": {
        "colab": {
          "base_uri": "https://localhost:8080/"
        },
        "id": "-9QWyroOzFW3",
        "outputId": "8ff41508-6c9b-4960-b7a4-ccce9a748578"
      },
      "execution_count": 192,
      "outputs": [
        {
          "output_type": "stream",
          "name": "stdout",
          "text": [
            "Iteration:  0\n",
            "[6 5 7 ... 6 6 6] [0 7 1 ... 5 6 8]\n",
            "Accuracy:  0.11415254237288136\n",
            "Iteration:  10\n",
            "[6 5 7 ... 6 6 6] [0 7 1 ... 5 6 8]\n",
            "Accuracy:  0.21027118644067797\n",
            "Iteration:  20\n",
            "[6 7 4 ... 6 6 6] [0 7 1 ... 5 6 8]\n",
            "Accuracy:  0.27576271186440676\n",
            "Iteration:  30\n",
            "[6 7 4 ... 6 6 6] [0 7 1 ... 5 6 8]\n",
            "Accuracy:  0.31845762711864406\n",
            "Iteration:  40\n",
            "[6 7 1 ... 6 6 6] [0 7 1 ... 5 6 8]\n",
            "Accuracy:  0.3515593220338983\n",
            "Iteration:  50\n",
            "[6 7 1 ... 6 6 6] [0 7 1 ... 5 6 8]\n",
            "Accuracy:  0.39205084745762714\n",
            "Iteration:  60\n",
            "[6 7 1 ... 6 6 8] [0 7 1 ... 5 6 8]\n",
            "Accuracy:  0.45089830508474577\n",
            "Iteration:  70\n",
            "[6 7 1 ... 6 6 8] [0 7 1 ... 5 6 8]\n",
            "Accuracy:  0.5085593220338983\n",
            "Iteration:  80\n",
            "[6 7 1 ... 4 6 8] [0 7 1 ... 5 6 8]\n",
            "Accuracy:  0.553864406779661\n",
            "Iteration:  90\n",
            "[6 7 1 ... 4 6 8] [0 7 1 ... 5 6 8]\n",
            "Accuracy:  0.5941016949152542\n",
            "Iteration:  100\n",
            "[6 7 1 ... 4 6 8] [0 7 1 ... 5 6 8]\n",
            "Accuracy:  0.6260338983050847\n",
            "Iteration:  110\n",
            "[6 7 1 ... 4 6 8] [0 7 1 ... 5 6 8]\n",
            "Accuracy:  0.6525762711864407\n",
            "Iteration:  120\n",
            "[6 7 1 ... 4 6 8] [0 7 1 ... 5 6 8]\n",
            "Accuracy:  0.6753559322033899\n",
            "Iteration:  130\n",
            "[6 7 1 ... 4 6 8] [0 7 1 ... 5 6 8]\n",
            "Accuracy:  0.6933559322033899\n",
            "Iteration:  140\n",
            "[0 7 1 ... 4 6 8] [0 7 1 ... 5 6 8]\n",
            "Accuracy:  0.7082203389830508\n",
            "Iteration:  150\n",
            "[0 7 1 ... 4 6 8] [0 7 1 ... 5 6 8]\n",
            "Accuracy:  0.7213728813559322\n",
            "Iteration:  160\n",
            "[0 7 1 ... 4 6 8] [0 7 1 ... 5 6 8]\n",
            "Accuracy:  0.7327796610169491\n",
            "Iteration:  170\n",
            "[0 7 1 ... 4 6 8] [0 7 1 ... 5 6 8]\n",
            "Accuracy:  0.7429661016949153\n",
            "Iteration:  180\n",
            "[0 7 1 ... 4 6 8] [0 7 1 ... 5 6 8]\n",
            "Accuracy:  0.7516440677966102\n",
            "Iteration:  190\n",
            "[0 7 1 ... 5 6 8] [0 7 1 ... 5 6 8]\n",
            "Accuracy:  0.7593220338983051\n",
            "Iteration:  200\n",
            "[0 7 1 ... 5 6 8] [0 7 1 ... 5 6 8]\n",
            "Accuracy:  0.7672372881355932\n",
            "Iteration:  210\n",
            "[0 7 1 ... 5 6 8] [0 7 1 ... 5 6 8]\n",
            "Accuracy:  0.7738644067796611\n",
            "Iteration:  220\n",
            "[0 7 1 ... 5 6 8] [0 7 1 ... 5 6 8]\n",
            "Accuracy:  0.7796610169491526\n",
            "Iteration:  230\n",
            "[0 7 1 ... 5 6 8] [0 7 1 ... 5 6 8]\n",
            "Accuracy:  0.7850169491525424\n",
            "Iteration:  240\n",
            "[0 7 1 ... 5 6 8] [0 7 1 ... 5 6 8]\n",
            "Accuracy:  0.7894067796610169\n",
            "Iteration:  250\n",
            "[0 7 1 ... 5 6 8] [0 7 1 ... 5 6 8]\n",
            "Accuracy:  0.7938813559322034\n",
            "Iteration:  260\n",
            "[0 7 1 ... 5 6 8] [0 7 1 ... 5 6 8]\n",
            "Accuracy:  0.7981864406779661\n",
            "Iteration:  270\n",
            "[0 7 1 ... 5 6 8] [0 7 1 ... 5 6 8]\n",
            "Accuracy:  0.8019322033898305\n",
            "Iteration:  280\n",
            "[0 7 1 ... 5 6 8] [0 7 1 ... 5 6 8]\n",
            "Accuracy:  0.8061186440677967\n",
            "Iteration:  290\n",
            "[0 7 1 ... 5 6 8] [0 7 1 ... 5 6 8]\n",
            "Accuracy:  0.8096949152542373\n",
            "Iteration:  300\n",
            "[0 7 1 ... 5 6 8] [0 7 1 ... 5 6 8]\n",
            "Accuracy:  0.8128813559322033\n",
            "Iteration:  310\n",
            "[0 7 1 ... 5 6 8] [0 7 1 ... 5 6 8]\n",
            "Accuracy:  0.8157796610169491\n",
            "Iteration:  320\n",
            "[0 7 1 ... 5 6 8] [0 7 1 ... 5 6 8]\n",
            "Accuracy:  0.818\n",
            "Iteration:  330\n",
            "[0 7 1 ... 5 6 8] [0 7 1 ... 5 6 8]\n",
            "Accuracy:  0.8203389830508474\n",
            "Iteration:  340\n",
            "[0 7 1 ... 5 6 8] [0 7 1 ... 5 6 8]\n",
            "Accuracy:  0.8222542372881356\n",
            "Iteration:  350\n",
            "[0 7 1 ... 5 6 8] [0 7 1 ... 5 6 8]\n",
            "Accuracy:  0.8243389830508474\n",
            "Iteration:  360\n",
            "[0 7 1 ... 5 6 8] [0 7 1 ... 5 6 8]\n",
            "Accuracy:  0.8264576271186441\n",
            "Iteration:  370\n",
            "[0 7 1 ... 5 6 8] [0 7 1 ... 5 6 8]\n",
            "Accuracy:  0.8282203389830508\n",
            "Iteration:  380\n",
            "[0 7 1 ... 5 6 8] [0 7 1 ... 5 6 8]\n",
            "Accuracy:  0.8303728813559322\n",
            "Iteration:  390\n",
            "[0 7 1 ... 5 6 8] [0 7 1 ... 5 6 8]\n",
            "Accuracy:  0.8322033898305085\n",
            "Iteration:  400\n",
            "[0 7 1 ... 5 6 8] [0 7 1 ... 5 6 8]\n",
            "Accuracy:  0.8345762711864407\n",
            "Iteration:  410\n",
            "[0 7 1 ... 5 6 8] [0 7 1 ... 5 6 8]\n",
            "Accuracy:  0.8364915254237288\n",
            "Iteration:  420\n",
            "[0 7 1 ... 5 6 8] [0 7 1 ... 5 6 8]\n",
            "Accuracy:  0.838135593220339\n",
            "Iteration:  430\n",
            "[0 7 1 ... 5 6 8] [0 7 1 ... 5 6 8]\n",
            "Accuracy:  0.8397796610169491\n",
            "Iteration:  440\n",
            "[0 7 1 ... 5 6 8] [0 7 1 ... 5 6 8]\n",
            "Accuracy:  0.841457627118644\n",
            "Iteration:  450\n",
            "[0 7 1 ... 5 6 8] [0 7 1 ... 5 6 8]\n",
            "Accuracy:  0.8431864406779661\n",
            "Iteration:  460\n",
            "[0 7 1 ... 5 6 8] [0 7 1 ... 5 6 8]\n",
            "Accuracy:  0.8447118644067797\n",
            "Iteration:  470\n",
            "[0 7 1 ... 5 6 8] [0 7 1 ... 5 6 8]\n",
            "Accuracy:  0.8459152542372881\n",
            "Iteration:  480\n",
            "[0 7 1 ... 5 6 8] [0 7 1 ... 5 6 8]\n",
            "Accuracy:  0.8475254237288136\n",
            "Iteration:  490\n",
            "[0 7 1 ... 5 6 8] [0 7 1 ... 5 6 8]\n",
            "Accuracy:  0.8490169491525423\n"
          ]
        }
      ]
    },
    {
      "cell_type": "code",
      "source": [
        "def make_predictions(X, W1, b1, W2, b2):\n",
        "  _, _, _, A2 = forward_prop(W1, b1, W2, b2, X)\n",
        "  predictions = get_predictions(A2)\n",
        "  return predictions\n",
        "def test_prediction(index, W1, b1, W2, b2):\n",
        "  current_image = X_train[:, index, None]\n",
        "  prediction = make_predictions(X_train[:, index, None], W1, b1, W2, b2)\n",
        "  label = Y_train[index]\n",
        "  print(\"Prediction: \", prediction)\n",
        "  print(\"Label: \", label)\n",
        "  current_image = current_image.reshape((28, 28)) * 255\n",
        "  plt.gray()\n",
        "  plt.imshow(current_image, interpolation='nearest')\n",
        "  plt.show()"
      ],
      "metadata": {
        "id": "ItrqbjGezBoa"
      },
      "execution_count": 193,
      "outputs": []
    },
    {
      "cell_type": "code",
      "source": [
        "test_predict= make_predictions(X_test, W1, b1, W2, b2)\n",
        "get_accuracy(test_predict, Y_test)"
      ],
      "metadata": {
        "colab": {
          "base_uri": "https://localhost:8080/"
        },
        "id": "sAmCj7pyGom2",
        "outputId": "5a32c7eb-11bc-40e4-89fb-e37a6f8c5eee"
      },
      "execution_count": 194,
      "outputs": [
        {
          "output_type": "stream",
          "name": "stdout",
          "text": [
            "[7 0 2 ... 4 5 6] [9 0 2 ... 4 5 6]\n"
          ]
        },
        {
          "output_type": "execute_result",
          "data": {
            "text/plain": [
              "0.857"
            ]
          },
          "metadata": {},
          "execution_count": 194
        }
      ]
    },
    {
      "cell_type": "code",
      "source": [
        "test_prediction(525, W1, b1, W2, b2)"
      ],
      "metadata": {
        "colab": {
          "base_uri": "https://localhost:8080/",
          "height": 466
        },
        "id": "juCw9sHpGDwy",
        "outputId": "af24bfca-3388-4a2b-aa84-9df6b5a11f29"
      },
      "execution_count": 195,
      "outputs": [
        {
          "output_type": "stream",
          "name": "stdout",
          "text": [
            "Prediction:  [7]\n",
            "Label:  7\n"
          ]
        },
        {
          "output_type": "display_data",
          "data": {
            "text/plain": [
              "<Figure size 640x480 with 1 Axes>"
            ],
            "image/png": "[encoded data removed]"
          },
          "metadata": {}
        }
      ]
    }
  ]
}